{
 "cells": [
  {
   "cell_type": "code",
   "execution_count": 1,
   "metadata": {},
   "outputs": [],
   "source": [
    "import os\n",
    "from PIL import Image\n",
    "import numpy as np\n",
    "import pandas\n",
    "\n",
    "from utils import transform\n",
    "\n",
    "import matplotlib.pyplot as plt"
   ]
  },
  {
   "cell_type": "code",
   "execution_count": 2,
   "metadata": {},
   "outputs": [],
   "source": [
    "img_dir = '/home/pqbas/dl/detection/MNIST-ObjectDetection/data/mnist_detection/test/images'\n",
    "transf = transform\n",
    "size = (400,400)\n",
    "width = None\n",
    "height = None\n",
    "annotations_dir = '/home/pqbas/dl/detection/MNIST-ObjectDetection/data/mnist_detection/test/labels'\n",
    "idx = 0"
   ]
  },
  {
   "cell_type": "code",
   "execution_count": 3,
   "metadata": {},
   "outputs": [
    {
     "name": "stdout",
     "output_type": "stream",
     "text": [
      "torch.Size([1, 400, 400])\n"
     ]
    }
   ],
   "source": [
    "# Image ---------------------------------------------------\n",
    "img_path = os.path.join(img_dir,f'{idx}.png')\n",
    "image = Image.open(img_path).resize(size)\n",
    "image = transf(image)\n",
    "\n",
    "width = image.shape[1]\n",
    "height = image.shape[2] \n",
    "\n",
    "dW = width//7\n",
    "dH = height//7\n",
    "\n",
    "\n",
    "# Output ---------------------------------------------------\n",
    "print(image.shape)"
   ]
  },
  {
   "cell_type": "code",
   "execution_count": 4,
   "metadata": {},
   "outputs": [
    {
     "name": "stdout",
     "output_type": "stream",
     "text": [
      "/home/pqbas/dl/detection/MNIST-ObjectDetection/data/mnist_detection/test/labels/0.csv\n",
      "400\n",
      "[[0.8245614  0.94736842 0.07       0.05666667]\n",
      " [0.52631579 0.07017544 0.13666667 0.16666667]\n",
      " [0.75438596 0.1754386  0.08666667 0.11333333]\n",
      " [0.71929825 0.31578947 0.1        0.14      ]\n",
      " [0.66666667 0.29824561 0.12666667 0.20666667]\n",
      " [0.28070175 0.87719298 0.08       0.09333333]\n",
      " [0.63157895 0.33333333 0.03333333 0.05333333]\n",
      " [0.92982456 0.63157895 0.09666667 0.11666667]\n",
      " [0.40350877 0.94736842 0.20333333 0.16333333]\n",
      " [0.0877193  0.75438596 0.09666667 0.15333333]\n",
      " [0.         0.07017544 0.11       0.17666667]\n",
      " [0.89473684 0.36842105 0.08333333 0.08333333]\n",
      " [0.22807018 0.64912281 0.09666667 0.08666667]\n",
      " [0.96491228 0.8245614  0.04666667 0.05333333]\n",
      " [0.43859649 0.10526316 0.11666667 0.12666667]\n",
      " [0.26315789 0.33333333 0.22       0.22      ]\n",
      " [0.29824561 0.56140351 0.12       0.18333333]]\n"
     ]
    }
   ],
   "source": [
    "# Boxes ---------------------------------------------------\n",
    "\n",
    "# read the data ---> xmin, xmax, ymin, ymax, label\n",
    "labels_path = os.path.join(annotations_dir,f'{idx}.csv')\n",
    "df = pandas.read_csv(labels_path)\n",
    "label, xmin, xmax, ymin, ymax = df['label'].to_numpy(), df['xmin'].to_numpy(), df['xmax'].to_numpy(), df['ymin'].to_numpy(), df['ymax'].to_numpy()\n",
    "\n",
    "# compute factor converstion in widht and heigth ---> factor_hor, factor_ver\n",
    "factor_hor, factor_ver = width/300, height/300\n",
    "\n",
    "# compute the new values of bbox ---> xmin, xmax, ymin, ymax\n",
    "xmax, xmin, ymax, ymin = xmax*factor_hor,xmin*factor_hor, ymax*factor_ver, ymin*factor_ver\n",
    "\n",
    "# comput he center ---> cx, cy\n",
    "cx, cy = (xmin + xmax)//2, (ymin + ymax)//2\n",
    "\n",
    "# compute the normalized versions ---> px,py,pw,ph\n",
    "px, py = (cx % dW)/dW, (cy % dH)/dH\n",
    "ph, pw = (xmax - xmin)/width, (ymax - ymin)/height\n",
    "\n",
    "boxes = np.stack(\n",
    "            (px,py,ph,pw),\n",
    "            axis= 1\n",
    "        )\n",
    "\n",
    "\n",
    "# Output -------------------------------------------------\n",
    "print(labels_path)\n",
    "print(width)\n",
    "print(boxes)"
   ]
  },
  {
   "cell_type": "code",
   "execution_count": 5,
   "metadata": {},
   "outputs": [
    {
     "name": "stdout",
     "output_type": "stream",
     "text": [
      "bbox: [0.8245614  0.94736842 0.07       0.05666667]\n",
      "prob: [0. 0. 1. 0. 0. 0. 0. 0. 0. 0.]\n"
     ]
    }
   ],
   "source": [
    "# Label -----------------------------------------------------\n",
    "n_objects = cx.shape[0]\n",
    "n_classes = 10\n",
    "\n",
    "class_prob = np.zeros((n_objects, n_classes))\n",
    "class_prob[np.arange(n_objects), label] = 1\n",
    "\n",
    "target = np.concatenate((boxes, class_prob), axis=1)        # target[i] = [px,py,pw,ph,0,0,0,0,1,0,0,0,0]\n",
    "\n",
    "# output ----------------------------------------------------\n",
    "\n",
    "print('bbox:',target[0,0:4])\n",
    "print('prob:',target[0,4:14])"
   ]
  },
  {
   "cell_type": "code",
   "execution_count": 6,
   "metadata": {},
   "outputs": [
    {
     "data": {
      "text/plain": [
       "'\\ntarget[i] = [px,py,pw,ph,0,0,0,0,1,0,0,0,0]\\n\\n[ box1 | box1 | box1 | box1 ]       [ 0 | 0 | 0 | 0 ]\\n[ box1 | box1 | box1 | box1 ]       [ 0 | 0 | 0 | 0 ]\\n[ box1 | box1 | box1 | box1 ]   *   [ 0 | 1 | 0 | 0 ]\\n[ box1 | box1 | box1 | box1 ]       [ 0 | 0 | 0 | 0 ]\\n\\nbox1 * one_vec1 + box2 * one_vec2 + box3 * one_vec3 ...\\n# Condicion:\\n1. Dos objetos no pueden esar en una misma celda\\n'"
      ]
     },
     "execution_count": 6,
     "metadata": {},
     "output_type": "execute_result"
    }
   ],
   "source": [
    "\"\"\"\n",
    "target[i] = [px,py,pw,ph,0,0,0,0,1,0,0,0,0]\n",
    "\n",
    "[ box1 | box1 | box1 | box1 ]       [ 0 | 0 | 0 | 0 ]\n",
    "[ box1 | box1 | box1 | box1 ]       [ 0 | 0 | 0 | 0 ]\n",
    "[ box1 | box1 | box1 | box1 ]   *   [ 0 | 1 | 0 | 0 ]\n",
    "[ box1 | box1 | box1 | box1 ]       [ 0 | 0 | 0 | 0 ]\n",
    "\n",
    "box1 * one_vec1 + box2 * one_vec2 + box3 * one_vec3 ...\n",
    "# Condicion:\n",
    "1. Dos objetos no pueden esar en una misma celda\n",
    "\"\"\""
   ]
  },
  {
   "cell_type": "code",
   "execution_count": 7,
   "metadata": {},
   "outputs": [
    {
     "name": "stdout",
     "output_type": "stream",
     "text": [
      "[array([ 6, 13]), array([ 7, 12]), array([ 8, 10, 11]), array([ 2, 16])]\n"
     ]
    }
   ],
   "source": [
    "\n",
    "cell_i = np.uint8(cx//dW)\n",
    "cell_j = np.uint8(cy//dH)\n",
    "\n",
    "cell_position = np.zeros([n_objects,7,7,14])\n",
    "cell_position[np.arange(n_objects),cell_i,cell_j,:] = 1\n",
    "\n",
    "cell_position_sum = cell_position.sum(axis=0)\n",
    "i_x, i_y = np.where(cell_position_sum[...,0] > 1)\n",
    "\n",
    "k_idx = []\n",
    "for ix, iy in zip(i_x, i_y):\n",
    "    k = np.where(cell_i == ix, 1, 0) * np.where(cell_j == iy, 1, 0)\n",
    "    k_idx.append(np.where(k == 1)[0])\n",
    "\n",
    "\n",
    "if ~(len(k_idx) == 0):\n",
    "    print(k_idx)\n",
    "        \n",
    "    vect_ = np.ones_like(target)\n",
    "    for boxes in k_idx:\n",
    "        areas = []\n",
    "\n",
    "        for box in boxes:\n",
    "            wn, hn = target[box,2:4]\n",
    "            areas.append(wn*hn)\n",
    "\n",
    "        max_index = np.argmax(np.array(areas))\n",
    "        \n",
    "        for k,box in enumerate(boxes):\n",
    "            if k == max_index:\n",
    "                continue\n",
    "            vect_ [box,:] = 0\n",
    "\n",
    "\n",
    "    target_corrected = target*vect_\n",
    "    cell_position_corrected = cell_position * vect_[:,None,None,:]\n",
    "\n",
    "    target_corrected = target_corrected[:,None,None,:] * cell_position_corrected\n",
    "    target_corrected = target_corrected.sum(axis=0)\n",
    "\n",
    "    cell_position_corrected_sum = cell_position_corrected.sum(axis=0)\n",
    "\n",
    "    obj_position_ = cell_position_corrected_sum[...,0]\n",
    "    target_ = target_corrected\n",
    "\n",
    "\n",
    "assert target_.shape == (7,7,14)\n",
    "assert obj_position_.shape == (7,7)"
   ]
  },
  {
   "cell_type": "code",
   "execution_count": 8,
   "metadata": {},
   "outputs": [
    {
     "name": "stdout",
     "output_type": "stream",
     "text": [
      "(7, 7, 16)\n"
     ]
    }
   ],
   "source": [
    "\"\"\"\n",
    "| box | p_class | background | object_prescense| \n",
    "| (4) |   (10)  |     (1)    |         (1)     |\n",
    "\"\"\"\n",
    "\n",
    "no_obj_position = 1 - obj_position_\n",
    "no_obj_position = no_obj_position[...][...,None]\n",
    "\n",
    "target_out = np.concatenate((target_, no_obj_position), axis=2)\n",
    "target_out = np.concatenate((target_out, obj_position_[...][...,None]), axis=2)\n",
    "\n",
    "print(target_out.shape)"
   ]
  },
  {
   "cell_type": "code",
   "execution_count": 42,
   "metadata": {},
   "outputs": [
    {
     "name": "stdout",
     "output_type": "stream",
     "text": [
      "[[0.71929825 0.31578947 0.1        0.14       0.         0.\n",
      "  0.         0.         1.         0.         0.         0.\n",
      "  0.         0.         0.         1.        ]\n",
      " [0.         0.         0.         0.         0.         0.\n",
      "  0.         0.         0.         0.         0.         0.\n",
      "  0.         0.         1.         0.        ]\n",
      " [0.92982456 0.63157895 0.09666667 0.11666667 0.         0.\n",
      "  1.         0.         0.         0.         0.         0.\n",
      "  0.         0.         0.         1.        ]\n",
      " [0.         0.         0.         0.         0.         0.\n",
      "  0.         0.         0.         0.         0.         0.\n",
      "  0.         0.         1.         0.        ]\n",
      " [0.         0.         0.         0.         0.         0.\n",
      "  0.         0.         0.         0.         0.         0.\n",
      "  0.         0.         1.         0.        ]\n",
      " [0.29824561 0.56140351 0.12       0.18333333 0.         0.\n",
      "  0.         0.         0.         0.         0.         0.\n",
      "  0.         1.         0.         1.        ]\n",
      " [0.         0.         0.         0.         0.         0.\n",
      "  0.         0.         0.         0.         0.         0.\n",
      "  0.         0.         1.         0.        ]]\n"
     ]
    }
   ],
   "source": [
    "print(target_out[:,3])"
   ]
  },
  {
   "cell_type": "code",
   "execution_count": 44,
   "metadata": {},
   "outputs": [
    {
     "name": "stdout",
     "output_type": "stream",
     "text": [
      "------------------------------------------\n",
      "0 3\n",
      "Object bounding box: [0.71929825 0.31578947 0.1        0.14      ]\n",
      "Class probability: [0. 0. 0. 0. 1. 0. 0. 0. 0. 0. 0.]\n",
      "Object presensce: [1.]\n",
      "------------------------------------------\n",
      "1 0\n",
      "Object bounding box: [0.8245614  0.94736842 0.07       0.05666667]\n",
      "Class probability: [0. 0. 1. 0. 0. 0. 0. 0. 0. 0. 0.]\n",
      "Object presensce: [1.]\n",
      "------------------------------------------\n",
      "1 1\n",
      "Object bounding box: [0.96491228 0.8245614  0.04666667 0.05333333]\n",
      "Class probability: [0. 0. 0. 0. 0. 1. 0. 0. 0. 0. 0.]\n",
      "Object presensce: [1.]\n",
      "------------------------------------------\n",
      "1 5\n",
      "Object bounding box: [0.26315789 0.33333333 0.22       0.22      ]\n",
      "Class probability: [0. 0. 0. 0. 0. 1. 0. 0. 0. 0. 0.]\n",
      "Object presensce: [1.]\n",
      "------------------------------------------\n",
      "2 0\n",
      "Object bounding box: [0.28070175 0.87719298 0.08       0.09333333]\n",
      "Class probability: [0. 0. 0. 0. 0. 0. 0. 1. 0. 0. 0.]\n",
      "Object presensce: [1.]\n",
      "------------------------------------------\n",
      "2 3\n",
      "Object bounding box: [0.92982456 0.63157895 0.09666667 0.11666667]\n",
      "Class probability: [0. 0. 1. 0. 0. 0. 0. 0. 0. 0. 0.]\n",
      "Object presensce: [1.]\n",
      "------------------------------------------\n",
      "2 6\n",
      "Object bounding box: [0.43859649 0.10526316 0.11666667 0.12666667]\n",
      "Class probability: [0. 0. 0. 0. 0. 0. 1. 0. 0. 0. 0.]\n",
      "Object presensce: [1.]\n",
      "------------------------------------------\n",
      "3 4\n",
      "Object bounding box: [0.40350877 0.94736842 0.20333333 0.16333333]\n",
      "Class probability: [0. 0. 0. 0. 0. 0. 0. 1. 0. 0. 0.]\n",
      "Object presensce: [1.]\n",
      "------------------------------------------\n",
      "4 2\n",
      "Object bounding box: [0.52631579 0.07017544 0.13666667 0.16666667]\n",
      "Class probability: [0. 0. 1. 0. 0. 0. 0. 0. 0. 0. 0.]\n",
      "Object presensce: [1.]\n",
      "------------------------------------------\n",
      "4 5\n",
      "Object bounding box: [0.66666667 0.29824561 0.12666667 0.20666667]\n",
      "Class probability: [0. 0. 0. 0. 0. 0. 0. 1. 0. 0. 0.]\n",
      "Object presensce: [1.]\n",
      "------------------------------------------\n",
      "5 3\n",
      "Object bounding box: [0.29824561 0.56140351 0.12       0.18333333]\n",
      "Class probability: [0. 0. 0. 0. 0. 0. 0. 0. 0. 1. 0.]\n",
      "Object presensce: [1.]\n",
      "------------------------------------------\n",
      "6 0\n",
      "Object bounding box: [0.0877193  0.75438596 0.09666667 0.15333333]\n",
      "Class probability: [0. 0. 0. 0. 0. 0. 1. 0. 0. 0. 0.]\n",
      "Object presensce: [1.]\n"
     ]
    }
   ],
   "source": [
    "for x in range(7):\n",
    "    for y in range(7):\n",
    "        if target_out[x,y,-1] == 1.0:\n",
    "            print(\"------------------------------------------\")\n",
    "            print(x,y)\n",
    "            print(\"Object bounding box:\",target_out[x,y,0:4])\n",
    "            print(\"Class probability:\",target_out[x,y,4:15])\n",
    "            print(\"Object presensce:\",target_out[x,y,15:16])"
   ]
  }
 ],
 "metadata": {
  "kernelspec": {
   "display_name": "dl",
   "language": "python",
   "name": "python3"
  },
  "language_info": {
   "codemirror_mode": {
    "name": "ipython",
    "version": 3
   },
   "file_extension": ".py",
   "mimetype": "text/x-python",
   "name": "python",
   "nbconvert_exporter": "python",
   "pygments_lexer": "ipython3",
   "version": "3.8.16"
  }
 },
 "nbformat": 4,
 "nbformat_minor": 2
}
