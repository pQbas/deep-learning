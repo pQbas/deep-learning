{
 "cells": [
  {
   "cell_type": "code",
   "execution_count": 1,
   "metadata": {},
   "outputs": [
    {
     "name": "stderr",
     "output_type": "stream",
     "text": [
      "c:\\Users\\percy\\anaconda3\\envs\\vision\\lib\\site-packages\\tqdm\\auto.py:22: TqdmWarning: IProgress not found. Please update jupyter and ipywidgets. See https://ipywidgets.readthedocs.io/en/stable/user_install.html\n",
      "  from .autonotebook import tqdm as notebook_tqdm\n"
     ]
    }
   ],
   "source": [
    "import torch\n",
    "import torch.nn as nn\n",
    "import torchvision.transforms as transforms\n",
    "import numpy as np\n",
    "from utils import get_dataset, imshow, get_default_device, create_directory, save_model\n",
    "import matplotlib.pyplot as plt\n",
    "plt.rcParams[\"figure.figsize\"] = (18, 10)\n",
    "import torch.optim as optim\n",
    "from utils import train"
   ]
  },
  {
   "cell_type": "markdown",
   "metadata": {},
   "source": [
    "# AlexNet"
   ]
  },
  {
   "cell_type": "markdown",
   "metadata": {},
   "source": [
    "\\begin{equation}\n",
    "\n",
    "(CNN \\rightarrow LRN \\rightarrow MP)^2 \\rightarrow (CNN^3 \\rightarrow MP) \\rightarrow (FC \\rightarrow DO)^2 \\rightarrow Linear \\rightarrow Softmax\n",
    "\n",
    "\\end{equation}\n",
    "\n",
    "<center>\n",
    "\n",
    "| Oper       | Datos                         | Activ. Func|  Notas |\n",
    "|:----------:|:-----------------------------:|:----------:|:------:|\n",
    "| Conv1      | #k=96,  ks=11x11, s=4, p=0    | relu       |        |\n",
    "| LRN        |                               |            |        |\n",
    "| MaxPool    | ks=3x3, s=2                   |            |        |\n",
    "| Conv2      | #k=256, ks=5x5, s=1, p=3      | relu       |        |\n",
    "| LRN        |                               |            |        |\n",
    "| MaxPool    | ks=3x3, s=2                   |            |        |\n",
    "| Conv3      | #k=384, ks=3x3, s=1, p=1      | relu       |        |\n",
    "| Conv4      | #k=384, ks=3x3, s=1, p=1      | relu       |        |\n",
    "| Conv5      | #k=256, ks=3x3, s=1, p=1      | relu       |        |\n",
    "| MaxPool    | ks=3x3, s=2                   |            |        |\n",
    "| FC1        | 4096                          | relu       |        |\n",
    "| DO         |                               |            |        |\n",
    "| FC2        | 4096                          | relu       |        |\n",
    "| DO         |                               |            |        |\n",
    "| FC3        | 1000                          | softmax    |        |\n",
    "\n",
    "</center>\n",
    "\n",
    "**LRN**: Batch Normalization, **DROP**: Dropout"
   ]
  },
  {
   "cell_type": "code",
   "execution_count": 2,
   "metadata": {},
   "outputs": [],
   "source": [
    "\n",
    "class conv(nn.Module):\n",
    "    def __init__(self, in_channels, out_channels, kernel_size, stride, padding):\n",
    "        super(conv, self).__init__()\n",
    "        self.filter_bank = nn.Sequential(\n",
    "            nn.Conv2d(in_channels, out_channels, kernel_size=kernel_size, stride=stride, padding=padding),\n",
    "            nn.ReLU(),\n",
    "        )\n",
    "    \n",
    "    def forward(self, x):\n",
    "        x = self.filter_bank(x)\n",
    "        return x\n",
    "\n",
    "\n",
    "class pooling(nn.Module):\n",
    "    def __init__(self, size, stride):\n",
    "        super(pooling, self).__init__()\n",
    "        self.pooling = torch.nn.MaxPool2d(kernel_size=size, stride=stride)\n",
    "\n",
    "    def forward(self, x):\n",
    "        x = self.pooling(x)\n",
    "        return x\n",
    "\n",
    "\n",
    "class lrn(nn.Module):\n",
    "    def __init__(self, neighbors):\n",
    "        super(lrn, self).__init__()\n",
    "        self.lrn_ = nn.LocalResponseNorm(neighbors)\n",
    "\n",
    "    def forward(self, x):\n",
    "        x = self.lrn_(x)\n",
    "        return x\n",
    "\n",
    "\n",
    "class linear(nn.Module):\n",
    "    def __init__(self, input, output):\n",
    "        super(linear, self).__init__()\n",
    "        self.linear_ = nn.Sequential(\n",
    "            nn.Linear(input, output),\n",
    "            nn.ReLU(),\n",
    "        )\n",
    "        \n",
    "    def forward(self, x):\n",
    "        x = self.linear_(x)\n",
    "        return x\n",
    "\n",
    "\n",
    "class alexnet(nn.Module):\n",
    "    def __init__(self, num_classes):\n",
    "        super(alexnet, self).__init__()\n",
    "        \n",
    "        self.stage1 = nn.Sequential(\n",
    "            conv(3, 96, 11, 4, 2),\n",
    "            lrn(5),\n",
    "            pooling(3, 2)\n",
    "        )\n",
    "        \n",
    "        self.stage2 = nn.Sequential(\n",
    "            conv(96, 256, 5, 1, 2),\n",
    "            lrn(5),\n",
    "            pooling(3, 2),\n",
    "        )\n",
    "        \n",
    "        self.stage3 = conv(256, 384, 3, 1, 1)\n",
    "        \n",
    "        self.stage4 = conv(384, 384, 3, 1, 1)\n",
    "        \n",
    "        self.stage5 = nn.Sequential(\n",
    "            conv(384, 256, 3, 1, 1),\n",
    "            pooling(3, 3)\n",
    "        )\n",
    "        \n",
    "        self.stage6 = nn.Sequential(\n",
    "            linear(1024, 1024),\n",
    "            linear(1024, num_classes),\n",
    "            nn.Softmax(dim=1)\n",
    "        )\n",
    "        \n",
    "        # intializing weights\n",
    "        self.initialize_weights()\n",
    "        \n",
    "    def forward(self, x):\n",
    "        x = self.stage1(x)\n",
    "        x = self.stage2(x)\n",
    "        x = self.stage3(x)\n",
    "        x = self.stage4(x)\n",
    "        x = self.stage5(x)\n",
    "        x = torch.flatten(x, 1)\n",
    "        x = self.stage6(x)\n",
    "        return x\n",
    "    \n",
    "    def initialize_weights(self):\n",
    "        for m in self.modules():\n",
    "            if isinstance(m, torch.nn.Conv2d):\n",
    "                torch.nn.init.kaiming_uniform_(m.weight)\n",
    "                if m.bias is not None:\n",
    "                    torch.nn.init.constant_(m.bias, 0)\n",
    "                        \n",
    "            elif isinstance(m, torch.nn.BatchNorm2d):\n",
    "                torch.nn.init.constant_(m.weight, 1)\n",
    "                torch.nn.init.constant_(m.bias, 1)\n",
    "                    \n",
    "            elif isinstance(m, torch.nn.Linear):\n",
    "                torch.nn.init.kaiming_uniform_(m.weight)\n",
    "                torch.nn.init.constant_(m.bias, 0)\n",
    "        "
   ]
  },
  {
   "cell_type": "code",
   "execution_count": 3,
   "metadata": {},
   "outputs": [
    {
     "name": "stdout",
     "output_type": "stream",
     "text": [
      "input shape: torch.Size([10, 3, 128, 128])\n",
      "output shape: torch.Size([10, 10])\n"
     ]
    }
   ],
   "source": [
    "NUM_CLASSES = 10 #102\n",
    "IMG_SIZE = 128\n",
    "BATCH_SIZE = 32 #128\n",
    "\n",
    "model = alexnet(NUM_CLASSES)\n",
    "\n",
    "# testing\n",
    "input = torch.rand([10,3,IMG_SIZE,IMG_SIZE])\n",
    "out = model(input)\n",
    "print(\"input shape:\", input.shape)\n",
    "print(\"output shape:\", out.shape)"
   ]
  },
  {
   "cell_type": "markdown",
   "metadata": {},
   "source": [
    "# Entrenamiento y validacion"
   ]
  },
  {
   "cell_type": "code",
   "execution_count": 4,
   "metadata": {},
   "outputs": [
    {
     "name": "stdout",
     "output_type": "stream",
     "text": [
      "Downloading https://www.cs.toronto.edu/~kriz/cifar-10-python.tar.gz to ./datasets/cifar-10-python.tar.gz\n"
     ]
    },
    {
     "data": {
      "application/vnd.code.notebook.stderr": [
       "100%|██████████| 170498071/170498071 [26:09<00:00, 108639.63it/s] \n"
      ]
     },
     "metadata": {},
     "output_type": "display_data"
    },
    {
     "name": "stdout",
     "output_type": "stream",
     "text": [
      "Extracting ./datasets/cifar-10-python.tar.gz to ./datasets/\n",
      "Files already downloaded and verified\n"
     ]
    },
    {
     "ename": "PicklingError",
     "evalue": "Can't pickle <function <lambda> at 0x00000207EE227C10>: attribute lookup <lambda> on __main__ failed",
     "output_type": "error",
     "traceback": [
      "\u001b[0;31m---------------------------------------------------------------------------\u001b[0m",
      "\u001b[0;31mKeyboardInterrupt\u001b[0m                         Traceback (most recent call last)",
      "Cell \u001b[0;32mIn[4], line 13\u001b[0m\n\u001b[1;32m     11\u001b[0m device \u001b[38;5;241m=\u001b[39m get_default_device()\n\u001b[1;32m     12\u001b[0m \u001b[38;5;66;03m#device = torch.device('cpu')\u001b[39;00m\n\u001b[0;32m---> 13\u001b[0m trained_model \u001b[38;5;241m=\u001b[39m \u001b[43mtrain\u001b[49m\u001b[43m(\u001b[49m\u001b[43mnet\u001b[49m\u001b[38;5;241;43m=\u001b[39;49m\u001b[43mmodel\u001b[49m\u001b[43m,\u001b[49m\n\u001b[1;32m     14\u001b[0m \u001b[43m                    \u001b[49m\u001b[43mepochs\u001b[49m\u001b[38;5;241;43m=\u001b[39;49m\u001b[38;5;241;43m30\u001b[39;49m\u001b[43m,\u001b[49m\n\u001b[1;32m     15\u001b[0m \u001b[43m                    \u001b[49m\u001b[43mtrainloader\u001b[49m\u001b[43m \u001b[49m\u001b[38;5;241;43m=\u001b[39;49m\u001b[43m \u001b[49m\u001b[43mtrainloader\u001b[49m\u001b[43m,\u001b[49m\n\u001b[1;32m     16\u001b[0m \u001b[43m                    \u001b[49m\u001b[43mcriterion\u001b[49m\u001b[43m \u001b[49m\u001b[38;5;241;43m=\u001b[39;49m\u001b[43m \u001b[49m\u001b[43mnn\u001b[49m\u001b[38;5;241;43m.\u001b[39;49m\u001b[43mCrossEntropyLoss\u001b[49m\u001b[43m(\u001b[49m\u001b[43m)\u001b[49m\u001b[43m,\u001b[49m\n\u001b[1;32m     17\u001b[0m \u001b[43m                    \u001b[49m\u001b[43moptimizer\u001b[49m\u001b[43m \u001b[49m\u001b[38;5;241;43m=\u001b[39;49m\u001b[43m \u001b[49m\u001b[43moptim\u001b[49m\u001b[38;5;241;43m.\u001b[39;49m\u001b[43mSGD\u001b[49m\u001b[43m(\u001b[49m\u001b[43mmodel\u001b[49m\u001b[38;5;241;43m.\u001b[39;49m\u001b[43mparameters\u001b[49m\u001b[43m(\u001b[49m\u001b[43m)\u001b[49m\u001b[43m,\u001b[49m\u001b[43m \u001b[49m\u001b[43mlr\u001b[49m\u001b[38;5;241;43m=\u001b[39;49m\u001b[38;5;241;43m0.001\u001b[39;49m\u001b[43m,\u001b[49m\u001b[43m \u001b[49m\u001b[43mmomentum\u001b[49m\u001b[38;5;241;43m=\u001b[39;49m\u001b[38;5;241;43m0.9\u001b[39;49m\u001b[43m)\u001b[49m\u001b[43m,\u001b[49m\n\u001b[1;32m     18\u001b[0m \u001b[43m                    \u001b[49m\u001b[43mdevice\u001b[49m\u001b[43m \u001b[49m\u001b[38;5;241;43m=\u001b[39;49m\u001b[43m \u001b[49m\u001b[43mdevice\u001b[49m\u001b[43m,\u001b[49m\n\u001b[1;32m     19\u001b[0m \u001b[43m                    \u001b[49m\u001b[43mevery_n_epochs\u001b[49m\u001b[43m \u001b[49m\u001b[38;5;241;43m=\u001b[39;49m\u001b[43m \u001b[49m\u001b[38;5;241;43m1\u001b[39;49m\u001b[43m)\u001b[49m\n",
      "File \u001b[0;32m~/dl/cnns/utils.py:97\u001b[0m, in \u001b[0;36mtrain\u001b[0;34m(net, epochs, trainloader, criterion, optimizer, device, every_n_epochs)\u001b[0m\n\u001b[1;32m     95\u001b[0m loss\u001b[38;5;241m.\u001b[39mbackward()\n\u001b[1;32m     96\u001b[0m optimizer\u001b[38;5;241m.\u001b[39mstep()\n\u001b[0;32m---> 97\u001b[0m running_loss \u001b[38;5;241m+\u001b[39m\u001b[38;5;241m=\u001b[39m \u001b[43mloss\u001b[49m\u001b[38;5;241;43m.\u001b[39;49m\u001b[43mitem\u001b[49m\u001b[43m(\u001b[49m\u001b[43m)\u001b[49m\n\u001b[1;32m     98\u001b[0m torch\u001b[38;5;241m.\u001b[39mcuda\u001b[38;5;241m.\u001b[39mempty_cache()\n\u001b[1;32m    100\u001b[0m \u001b[38;5;66;03m# if i % 2000 == 1999:    # print every 2000 mini-batches\u001b[39;00m\n\u001b[1;32m    101\u001b[0m \u001b[38;5;66;03m#     print(f'[{epoch + 1}, {i + 1:5d}] loss: {running_loss / 2000:.3f}')\u001b[39;00m\n\u001b[1;32m    102\u001b[0m \u001b[38;5;66;03m#     running_loss = 0.0\u001b[39;00m\n",
      "\u001b[0;31mKeyboardInterrupt\u001b[0m: "
     ]
    }
   ],
   "source": [
    "data_transforms = [\n",
    "    transforms.Resize((IMG_SIZE, IMG_SIZE)),\n",
    "    transforms.RandomHorizontalFlip(),\n",
    "    transforms.ToTensor(), # Scales data into [0,1]\n",
    "    transforms.Lambda(lambda t: (t * 2) - 1) # Scale between [-1, 1]\n",
    "]\n",
    "\n",
    "trainloader, testloader = get_dataset(dataset_name='cifar10', transform=data_transforms, batchsize = BATCH_SIZE)\n",
    "imshow(testloader)\n",
    "\n",
    "device = get_default_device()\n",
    "#device = torch.device('cpu')\n",
    "trained_model = train(net=model,\n",
    "                    epochs=30,\n",
    "                    trainloader = trainloader,\n",
    "                    criterion = nn.CrossEntropyLoss(),\n",
    "                    optimizer = optim.SGD(model.parameters(), lr=0.001, momentum=0.9),\n",
    "                    device = device,\n",
    "                    every_n_epochs = 1)"
   ]
  },
  {
   "cell_type": "code",
   "execution_count": null,
   "metadata": {},
   "outputs": [
    {
     "name": "stdout",
     "output_type": "stream",
     "text": [
      "Directory './trained_models/alexnet' already exists.\n"
     ]
    }
   ],
   "source": [
    "PATH = './trained_models/alexnet'\n",
    "create_directory(PATH)\n",
    "save_model(PATH, model=trained_model, weights='alexnet.pth')"
   ]
  },
  {
   "cell_type": "code",
   "execution_count": 1,
   "metadata": {},
   "outputs": [
    {
     "ename": "NameError",
     "evalue": "name 'torch' is not defined",
     "output_type": "error",
     "traceback": [
      "\u001b[0;31m---------------------------------------------------------------------------\u001b[0m",
      "\u001b[0;31mNameError\u001b[0m                                 Traceback (most recent call last)",
      "Cell \u001b[0;32mIn[1], line 2\u001b[0m\n\u001b[1;32m      1\u001b[0m \u001b[38;5;28;01mimport\u001b[39;00m \u001b[38;5;21;01mgc\u001b[39;00m\n\u001b[0;32m----> 2\u001b[0m \u001b[43mtorch\u001b[49m\u001b[38;5;241m.\u001b[39mcuda\u001b[38;5;241m.\u001b[39mempty_cache()\n\u001b[1;32m      3\u001b[0m gc\u001b[38;5;241m.\u001b[39mcollect()\n",
      "\u001b[0;31mNameError\u001b[0m: name 'torch' is not defined"
     ]
    }
   ],
   "source": [
    "import gc\n",
    "torch.cuda.empty_cache()\n",
    "gc.collect()"
   ]
  }
 ],
 "metadata": {
  "kernelspec": {
   "display_name": "Python 3.8.15 ('vision')",
   "language": "python",
   "name": "python3"
  },
  "language_info": {
   "codemirror_mode": {
    "name": "ipython",
    "version": 3
   },
   "file_extension": ".py",
   "mimetype": "text/x-python",
   "name": "python",
   "nbconvert_exporter": "python",
   "pygments_lexer": "ipython3",
   "version": "3.8.16"
  },
  "vscode": {
   "interpreter": {
    "hash": "214ee178f1715f47f83f7b184c1addbfc9e625d5c3d67f84a9eb2959c677c7e7"
   }
  }
 },
 "nbformat": 4,
 "nbformat_minor": 2
}
