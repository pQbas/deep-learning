{
 "cells": [
  {
   "cell_type": "code",
   "execution_count": 31,
   "metadata": {},
   "outputs": [
    {
     "name": "stdout",
     "output_type": "stream",
     "text": [
      "tensor([0, 3, 0])\n",
      "tensor([4, 1, 4])\n",
      "tensor([[-0.9474,  0.4423,  1.4375, -0.1625, -0.9571],\n",
      "        [-0.7990, -0.8211,  1.2274,  0.7918, -0.2556],\n",
      "        [ 2.4240,  0.0339, -2.0204, -1.6073,  0.7701]], requires_grad=True)\n",
      "tensor([[0.3598, 0.1968, 0.0514, 0.1722, 0.2198],\n",
      "        [0.0653, 0.2300, 0.0901, 0.5712, 0.0435],\n",
      "        [0.1034, 0.0357, 0.0619, 0.0634, 0.7357]])\n"
     ]
    }
   ],
   "source": [
    "import torch\n",
    "import torch.nn as nn\n",
    "\n",
    "# Example of target with class indices\n",
    "loss = nn.CrossEntropyLoss()\n",
    "input = torch.randn(3, 5, requires_grad=True)\n",
    "target = torch.empty(3, dtype=torch.long).random_(5)\n",
    "output = loss(input, target)\n",
    "output.backward()\n",
    "\n",
    "max_scores, max_idx = input.max(dim=1)\n",
    "print(max_idx)\n",
    "print(target)\n",
    "\n",
    "# Example of target with class probabilities\n",
    "input = torch.randn(3, 5, requires_grad=True)\n",
    "target = torch.randn(3, 5).softmax(dim=1)\n",
    "output = loss(input, target)\n",
    "output.backward()\n",
    "\n",
    "print(input)\n",
    "print(target)"
   ]
  }
 ],
 "metadata": {
  "kernelspec": {
   "display_name": "dl",
   "language": "python",
   "name": "python3"
  },
  "language_info": {
   "codemirror_mode": {
    "name": "ipython",
    "version": 3
   },
   "file_extension": ".py",
   "mimetype": "text/x-python",
   "name": "python",
   "nbconvert_exporter": "python",
   "pygments_lexer": "ipython3",
   "version": "3.8.16"
  }
 },
 "nbformat": 4,
 "nbformat_minor": 2
}
